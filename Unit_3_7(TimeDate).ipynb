{
 "cells": [
  {
   "cell_type": "code",
   "execution_count": 3,
   "id": "9d8ae73a-fe4e-4c62-96c4-d9a4a2c35646",
   "metadata": {},
   "outputs": [
    {
     "name": "stdout",
     "output_type": "stream",
     "text": [
      "2024-11-22 20:01:52.286995\n"
     ]
    }
   ],
   "source": [
    "#Get Current Date and Time\n",
    "import datetime\n",
    "o1 = datetime.datetime.now()\n",
    "print(o1)"
   ]
  },
  {
   "cell_type": "code",
   "execution_count": 4,
   "id": "6bcc8953-08e7-4e91-819d-8226ad35aded",
   "metadata": {},
   "outputs": [
    {
     "name": "stdout",
     "output_type": "stream",
     "text": [
      "['MAXYEAR', 'MINYEAR', 'UTC', '__all__', '__builtins__', '__cached__', '__doc__', '__file__', '__loader__', '__name__', '__package__', '__spec__', 'date', 'datetime', 'datetime_CAPI', 'time', 'timedelta', 'timezone', 'tzinfo']\n"
     ]
    }
   ],
   "source": [
    "print(dir(datetime))"
   ]
  },
  {
   "cell_type": "code",
   "execution_count": 9,
   "id": "1ec19590-3807-432a-8bb2-ed6bfcfc491b",
   "metadata": {},
   "outputs": [
    {
     "name": "stdout",
     "output_type": "stream",
     "text": [
      "2024-10-22\n"
     ]
    }
   ],
   "source": [
    "#date class\n",
    "d=datetime.date(2024,10,22)\n",
    "print(d)"
   ]
  },
  {
   "cell_type": "code",
   "execution_count": 11,
   "id": "d8dd961b-bf64-4535-857b-6ff791df370c",
   "metadata": {},
   "outputs": [
    {
     "name": "stdout",
     "output_type": "stream",
     "text": [
      "2024-11-22\n",
      "Year:  2024\n",
      "Month:  11\n",
      "Day:  22\n"
     ]
    }
   ],
   "source": [
    "d1=datetime.date.today()\n",
    "print(d1)\n",
    "print(\"Year: \",d1.year)\n",
    "print(\"Month: \",d1.month)\n",
    "print(\"Day: \",d1.day)"
   ]
  },
  {
   "cell_type": "code",
   "execution_count": 14,
   "id": "2087b2ac-7eac-44f5-8c43-e51f9d5f37cf",
   "metadata": {},
   "outputs": [
    {
     "name": "stdout",
     "output_type": "stream",
     "text": [
      "a = 00:00:00\n",
      "b = 11:34:56\n",
      "c = 11:34:56\n",
      "d = 11:34:56.234566\n",
      "hour = 11\n",
      "minute = 34\n",
      "second = 56\n",
      "microsecond = 234566\n"
     ]
    }
   ],
   "source": [
    "#time class\n",
    "from datetime import time\n",
    "# time(hour = 0, minute = 0, second = 0)\n",
    "a = time()\n",
    "print(\"a =\", a)\n",
    "# time(hour, minute and second)\n",
    "b = time(11, 34, 56)\n",
    "print(\"b =\", b)\n",
    "# time(hour, minute and second)\n",
    "c = time(hour = 11, minute = 34, second = 56)\n",
    "print(\"c =\", c)\n",
    "# time(hour, minute, second, microsecond)\n",
    "d = time(11, 34, 56, 234566)\n",
    "print(\"d =\", d)\n",
    "print(\"hour =\", d.hour)\n",
    "print(\"minute =\", d.minute)\n",
    "print(\"second =\", d.second)\n",
    "print(\"microsecond =\", d.microsecond)"
   ]
  },
  {
   "cell_type": "code",
   "execution_count": 17,
   "id": "63c6888a-3a89-4554-a74e-2eb0de30dda5",
   "metadata": {},
   "outputs": [
    {
     "name": "stdout",
     "output_type": "stream",
     "text": [
      "2017-11-28 23:55:59.342380\n",
      "\n",
      "year = 2017\n",
      "month = 11\n",
      "hour = 23\n",
      "minute = 55\n",
      "timestamp = 1511893559.34238\n"
     ]
    }
   ],
   "source": [
    "#datetime class\n",
    "from datetime import datetime\n",
    "# datetime(year, month, day, hour, minute, second, microsecond)\n",
    "a = datetime(2017, 11, 28, 23, 55, 59, 342380)\n",
    "print(a)\n",
    "print(\"\")\n",
    "print(\"year =\", a.year)\n",
    "print(\"month =\", a.month)\n",
    "print(\"hour =\", a.hour)\n",
    "print(\"minute =\", a.minute)\n",
    "print(\"timestamp =\", a.timestamp())"
   ]
  },
  {
   "cell_type": "code",
   "execution_count": 20,
   "id": "893fd0b2-cdb9-401b-b2b3-15283ee22eb3",
   "metadata": {},
   "outputs": [
    {
     "name": "stdout",
     "output_type": "stream",
     "text": [
      "t3 = 201 days, 0:00:00\n",
      "type of t3 = <class 'datetime.timedelta'>\n"
     ]
    }
   ],
   "source": [
    "#timedelta class\n",
    "from datetime import datetime, date\n",
    "t1 = date(year = 2018, month = 7, day = 12)\n",
    "t2 = date(year = 2017, month = 12, day = 23)\n",
    "t3 = t1 - t2\n",
    "print(\"t3 =\", t3)\n",
    "print(\"type of t3 =\", type(t3))"
   ]
  },
  {
   "cell_type": "code",
   "execution_count": 21,
   "id": "cd8c326e-77b3-44cc-aa6c-c612a1b86282",
   "metadata": {},
   "outputs": [
    {
     "name": "stdout",
     "output_type": "stream",
     "text": [
      "time: 20:15:52\n",
      "s1: 11/22/2024, 20:15:52\n",
      "s2: 22/11/2024, 20:15:52\n"
     ]
    }
   ],
   "source": [
    "#datetime object to string|\n",
    "from datetime import datetime\n",
    "# current date and time\n",
    "now = datetime.now()\n",
    "t = now.strftime(\"%H:%M:%S\")\n",
    "print(\"time:\", t)\n",
    "s1 = now.strftime(\"%m/%d/%Y, %H:%M:%S\")\n",
    "# mm/dd/YY H:M:S format\n",
    "print(\"s1:\", s1)\n",
    "s2 = now.strftime(\"%d/%m/%Y, %H:%M:%S\")\n",
    "# dd/mm/YY H:M:S format\n",
    "print(\"s2:\", s2)"
   ]
  },
  {
   "cell_type": "code",
   "execution_count": 25,
   "id": "01d8df6d-3d48-4635-8cef-71895ef26e6a",
   "metadata": {},
   "outputs": [
    {
     "name": "stdout",
     "output_type": "stream",
     "text": [
      "0:00:00\n"
     ]
    }
   ],
   "source": [
    "#timedelta function\n",
    "from datetime import timedelta\n",
    "d3=timedelta(days=0, seconds=0, microseconds=0, milliseconds=0,\n",
    "minutes=0, hours=0, weeks=0)\n",
    "print(d3)"
   ]
  },
  {
   "cell_type": "code",
   "execution_count": null,
   "id": "07ccfab9-eb41-444f-baec-6934de817901",
   "metadata": {},
   "outputs": [],
   "source": []
  }
 ],
 "metadata": {
  "kernelspec": {
   "display_name": "Python 3 (ipykernel)",
   "language": "python",
   "name": "python3"
  },
  "language_info": {
   "codemirror_mode": {
    "name": "ipython",
    "version": 3
   },
   "file_extension": ".py",
   "mimetype": "text/x-python",
   "name": "python",
   "nbconvert_exporter": "python",
   "pygments_lexer": "ipython3",
   "version": "3.12.4"
  }
 },
 "nbformat": 4,
 "nbformat_minor": 5
}
