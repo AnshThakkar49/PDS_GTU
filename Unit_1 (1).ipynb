{
 "cells": [
  {
   "cell_type": "markdown",
   "id": "dea3c737-8a5d-45d9-9d57-44dd29660e67",
   "metadata": {},
   "source": [
    "## Branching Statements"
   ]
  },
  {
   "cell_type": "code",
   "execution_count": 3,
   "id": "548e6c5d-b38f-48d6-9658-6ffb9f147c56",
   "metadata": {},
   "outputs": [
    {
     "name": "stdin",
     "output_type": "stream",
     "text": [
      " -1\n"
     ]
    },
    {
     "name": "stdout",
     "output_type": "stream",
     "text": [
      "Negative\n"
     ]
    }
   ],
   "source": [
    "#if_else\n",
    "a=int(input())\n",
    "if(a>=0):\n",
    "    print(\"Positive\")\n",
    "else:\n",
    "    print(\"Negative\")"
   ]
  },
  {
   "cell_type": "markdown",
   "id": "a169fc87-74b7-4b52-8f36-363429bf68a0",
   "metadata": {},
   "source": [
    "## Control Structure"
   ]
  },
  {
   "cell_type": "code",
   "execution_count": 5,
   "id": "1e36cb53-d897-4c30-b768-9c5c628b93f7",
   "metadata": {},
   "outputs": [
    {
     "name": "stdout",
     "output_type": "stream",
     "text": [
      "Current Letter:  P\n",
      "Current Letter:  y\n"
     ]
    }
   ],
   "source": [
    "#Break \n",
    "for i in 'Python':\n",
    "    if i=='t':\n",
    "        break\n",
    "    print(\"Current Letter: \",i)"
   ]
  },
  {
   "cell_type": "code",
   "execution_count": 8,
   "id": "42056dc8-a997-4728-b921-53bf121aeec5",
   "metadata": {},
   "outputs": [
    {
     "name": "stdout",
     "output_type": "stream",
     "text": [
      "Current Letter:  P\n",
      "Current Letter:  y\n",
      "Current Letter:  h\n",
      "Current Letter:  o\n",
      "Current Letter:  n\n"
     ]
    }
   ],
   "source": [
    "#Continue\n",
    "for i in 'Python':\n",
    "    if i=='t':\n",
    "        continue\n",
    "    print(\"Current Letter: \",i)"
   ]
  },
  {
   "cell_type": "code",
   "execution_count": 10,
   "id": "1bc2cda3-bbd7-475a-a2a7-a7e04272ec0d",
   "metadata": {},
   "outputs": [
    {
     "name": "stdout",
     "output_type": "stream",
     "text": [
      "Current Letter:  P\n",
      "Current Letter:  y\n",
      "pass\n",
      "Current Letter:  t\n",
      "Current Letter:  h\n",
      "Current Letter:  o\n",
      "Current Letter:  n\n"
     ]
    }
   ],
   "source": [
    "#Pass\n",
    "for i in 'Python':\n",
    "    if i=='t':\n",
    "        pass\n",
    "        print('pass')\n",
    "    print(\"Current Letter: \",i)"
   ]
  },
  {
   "cell_type": "markdown",
   "id": "214d4745-fe70-417d-9ed2-857084b35e1a",
   "metadata": {},
   "source": [
    "## Functions"
   ]
  },
  {
   "cell_type": "code",
   "execution_count": 14,
   "id": "3a8b93bf-4414-4735-b40d-6d21eed3a00e",
   "metadata": {},
   "outputs": [
    {
     "name": "stdout",
     "output_type": "stream",
     "text": [
      "My name is:  Ansh  & my age is:  20\n"
     ]
    }
   ],
   "source": [
    "# Positional Arguments\n",
    "def student(name, age):\n",
    "    print(\"My name is: \",name,\" & my age is: \",age)\n",
    "student(\"Ansh\",20)"
   ]
  },
  {
   "cell_type": "code",
   "execution_count": 16,
   "id": "7331e481-c7ff-4f1b-a913-6ba1c491b6e6",
   "metadata": {},
   "outputs": [
    {
     "name": "stdout",
     "output_type": "stream",
     "text": [
      "Name:  Python\n",
      "Age:  25\n"
     ]
    }
   ],
   "source": [
    "# Keyword Arguments\n",
    "def demo(name, age):\n",
    "    print (\"Name: \",name)\n",
    "    print (\"Age: \",age)\n",
    "demo (age =25, name='Python')"
   ]
  },
  {
   "cell_type": "code",
   "execution_count": 17,
   "id": "2c22b79b-f06a-4ce4-baf0-0c1cfc89155d",
   "metadata": {},
   "outputs": [
    {
     "name": "stdout",
     "output_type": "stream",
     "text": [
      "Name:  Python\n",
      "Age:  20\n"
     ]
    }
   ],
   "source": [
    "# Default Arguments\n",
    "def demo(name, age=20):\n",
    "    print ('Name: ',name)\n",
    "    print ('Age: ',age)\n",
    "demo ('Python')"
   ]
  },
  {
   "cell_type": "code",
   "execution_count": 18,
   "id": "3ba9ad06-36e3-4e30-a5ef-9c8ab61b8849",
   "metadata": {},
   "outputs": [
    {
     "name": "stdout",
     "output_type": "stream",
     "text": [
      "Name:  Python\n",
      "Name:  Java\n",
      "Name:  AI\n",
      "Name:  ML\n"
     ]
    }
   ],
   "source": [
    "#Arbitaruy Arguments\n",
    "\n",
    "def demo(*name):\n",
    "    for i in name:\n",
    "        print ('Name: ',i)\n",
    "demo ('Python', 'Java', 'AI', 'ML')"
   ]
  },
  {
   "cell_type": "code",
   "execution_count": 20,
   "id": "aa7675e4-9051-4e99-b454-c0569a5eb6e6",
   "metadata": {},
   "outputs": [
    {
     "name": "stdout",
     "output_type": "stream",
     "text": [
      "0\n",
      "1\n",
      "4\n",
      "9\n",
      "16\n"
     ]
    }
   ],
   "source": [
    "# Lambda Functiuon\n",
    "for i in range(5):\n",
    "    f=lambda i:i*i\n",
    "    print(f(i))"
   ]
  },
  {
   "cell_type": "code",
   "execution_count": 21,
   "id": "4fdf06de-0283-4ec0-a7a4-c5183b0b1799",
   "metadata": {},
   "outputs": [
    {
     "name": "stdout",
     "output_type": "stream",
     "text": [
      "[1, 4, 9, 16, 25]\n"
     ]
    }
   ],
   "source": [
    "#Map Function\n",
    "def squares(x):\n",
    "    return x*x\n",
    "lst=[1,2,3,4,5]\n",
    "lst1=list(map(squares,lst))\n",
    "print (lst1)"
   ]
  },
  {
   "cell_type": "code",
   "execution_count": 22,
   "id": "99f84bf6-6b09-41f3-9c98-ec35e35027d0",
   "metadata": {},
   "outputs": [
    {
     "name": "stdout",
     "output_type": "stream",
     "text": [
      "[10, 46]\n"
     ]
    }
   ],
   "source": [
    "#Filter Function\n",
    "def is_even(x):\n",
    "    if x%2==0:\n",
    "        return True\n",
    "    else:\n",
    "        return False\n",
    "lst= [10, 23, 45, 46, 79, 99]\n",
    "lst1= list(filter(is_even,lst))\n",
    "print (lst1)"
   ]
  },
  {
   "cell_type": "code",
   "execution_count": 23,
   "id": "6dcf3a12-9ff6-444e-893e-92a5911d1d35",
   "metadata": {},
   "outputs": [
    {
     "name": "stdout",
     "output_type": "stream",
     "text": [
      "120\n"
     ]
    }
   ],
   "source": [
    "#Reduce Function\n",
    "from functools import *\n",
    "lst = [1, 2, 3, 4, 5]\n",
    "result = reduce(lambda x,y:x*y, lst)\n",
    "print (result)"
   ]
  },
  {
   "cell_type": "markdown",
   "id": "c4491e14-2b3a-4dea-962c-759818a5feba",
   "metadata": {},
   "source": [
    "## Module"
   ]
  },
  {
   "cell_type": "code",
   "execution_count": 1,
   "id": "187e6674-c47f-472d-8a1a-79ea37cc9c35",
   "metadata": {},
   "outputs": [
    {
     "name": "stdout",
     "output_type": "stream",
     "text": [
      "3.14159\n",
      "28.27431\n",
      "18.849539999999998\n"
     ]
    }
   ],
   "source": [
    "import circle as c # Circle.py file already created \n",
    "print (c.pi)\n",
    "print (c.area(3))\n",
    "print (c.circumference(3))"
   ]
  },
  {
   "cell_type": "markdown",
   "id": "17812c33-0e04-49cd-b390-b8f4b770abde",
   "metadata": {},
   "source": [
    "## Recursion"
   ]
  },
  {
   "cell_type": "code",
   "execution_count": 3,
   "id": "7f3b3c0f-fe22-487e-9455-30f5721270f9",
   "metadata": {},
   "outputs": [
    {
     "name": "stdin",
     "output_type": "stream",
     "text": [
      " 5\n"
     ]
    },
    {
     "name": "stdout",
     "output_type": "stream",
     "text": [
      "120\n"
     ]
    }
   ],
   "source": [
    "def factorial(x):\n",
    "    if x==1 or x==0:\n",
    "        return 1\n",
    "    else:\n",
    "        return x*factorial(x-1)\n",
    "y=int(input())\n",
    "print(factorial(y))"
   ]
  },
  {
   "cell_type": "code",
   "execution_count": 1,
   "id": "84f57e63-c794-4900-8c23-d8eb81a552a8",
   "metadata": {},
   "outputs": [
    {
     "name": "stdin",
     "output_type": "stream",
     "text": [
      " 5\n"
     ]
    },
    {
     "name": "stdout",
     "output_type": "stream",
     "text": [
      "0 1 1 2 3 "
     ]
    }
   ],
   "source": [
    "def Fibo(x):\n",
    "    if x==1:\n",
    "        return 0\n",
    "    elif x==2:\n",
    "        return 1\n",
    "    else:\n",
    "        return (Fibo(x-1)+Fibo(x-2))\n",
    "a=int(input())\n",
    "for i in range (1,a+1):\n",
    "    print(Fibo(i),end=\" \")"
   ]
  },
  {
   "cell_type": "markdown",
   "id": "8f8ad1b1-5ca0-4c99-865f-cfb27bee77ea",
   "metadata": {},
   "source": [
    "## String"
   ]
  },
  {
   "cell_type": "code",
   "execution_count": 3,
   "id": "ec74e950-b098-4886-b82d-1c64f9ff6b7b",
   "metadata": {},
   "outputs": [
    {
     "name": "stdout",
     "output_type": "stream",
     "text": [
      "e\n",
      "d\n"
     ]
    }
   ],
   "source": [
    "#Indexing\n",
    "a=\"Hello World\"\n",
    "print(a[1]) #positive Indexing\n",
    "print(a[-1]) #Negatigve Indexing"
   ]
  },
  {
   "cell_type": "code",
   "execution_count": 6,
   "id": "c6c96e2f-2b5f-4814-99d2-8665290c303b",
   "metadata": {},
   "outputs": [
    {
     "name": "stdout",
     "output_type": "stream",
     "text": [
      "Hello Wolr\n",
      "Hello Wolrd\n",
      "llo \n",
      "HloWld\n",
      "drloW olleH\n"
     ]
    }
   ],
   "source": [
    "#Slicing str[start:stop:step_size]\n",
    "s1= 'Hello Wolrd'\n",
    "print(s1[0:10:1]) #accessing string from 0th to 9th element in steps of 1\n",
    "print (s1[::]) #string from start to last character\n",
    "print (s1 [2:6:1]) #starting from S1[2] to S1[5] element in steps of 1\n",
    "print (s1[::2]) #entire starting in steps of 2\n",
    "print (s1[::-1]) #reverse the string"
   ]
  },
  {
   "cell_type": "code",
   "execution_count": 8,
   "id": "0e0e989c-0c60-46fa-9adc-e1932206d8c7",
   "metadata": {},
   "outputs": [
    {
     "name": "stdout",
     "output_type": "stream",
     "text": [
      "HelloHello\n",
      "elel\n"
     ]
    }
   ],
   "source": [
    "#Repeating \n",
    "s2=\"Hello\"\n",
    "print(s2*2)\n",
    "s=s2[1:3]*2\n",
    "print(s)"
   ]
  },
  {
   "cell_type": "code",
   "execution_count": 13,
   "id": "8868e8f0-3b0a-4de8-a026-275b580f4de2",
   "metadata": {},
   "outputs": [
    {
     "name": "stdout",
     "output_type": "stream",
     "text": [
      "HelloWorld\n"
     ]
    },
    {
     "name": "stdin",
     "output_type": "stream",
     "text": [
      "Enter Str1:  Gujarat University\n",
      "Enter Str2:  Technological\n",
      "Enter Position:  7\n"
     ]
    },
    {
     "name": "stdout",
     "output_type": "stream",
     "text": [
      "Gujarat Technological University\n"
     ]
    }
   ],
   "source": [
    "# Concatenation\n",
    "s3=\"Hello\"\n",
    "s4=\"World\"\n",
    "s5=s3+s4\n",
    "print(s5)\n",
    "\n",
    "#MSE1(Sec_A(3C))\n",
    "a=input(\"Enter Str1: \")\n",
    "b=input(\"Enter Str2: \")\n",
    "p=int(input(\"Enter Position: \"))\n",
    "fs=a[:p+1]+b[:]+a[p:]\n",
    "print(fs)"
   ]
  },
  {
   "cell_type": "code",
   "execution_count": 14,
   "id": "d9b31fb0-7f2a-4b50-987c-3acdac7f1f8b",
   "metadata": {},
   "outputs": [
    {
     "name": "stdout",
     "output_type": "stream",
     "text": [
      "Present\n"
     ]
    }
   ],
   "source": [
    "#Membership\n",
    "s1=\"This is Python\"\n",
    "s2=\"is\"\n",
    "if s2 in s1:\n",
    "    print(\"Present\")\n",
    "else:\n",
    "    print(\"Absent\")"
   ]
  },
  {
   "cell_type": "code",
   "execution_count": 15,
   "id": "55ab0bd9-eb05-45d0-97c4-ae1bfb23a9a8",
   "metadata": {},
   "outputs": [
    {
     "name": "stdout",
     "output_type": "stream",
     "text": [
      "Both are not same\n"
     ]
    }
   ],
   "source": [
    "#Comparing\n",
    "s1=\"This is Python\"\n",
    "s2=\"is\"\n",
    "if s1==s2:\n",
    "    print(\"Both are same\")\n",
    "else:\n",
    "    print(\"Both are not same\")"
   ]
  },
  {
   "cell_type": "markdown",
   "id": "e6276b6c-8a75-4fb7-843b-a4ded7671ec8",
   "metadata": {},
   "source": [
    "## List"
   ]
  },
  {
   "cell_type": "code",
   "execution_count": 16,
   "id": "381b3c0b-ed4a-4783-9e2f-24fbc45d370a",
   "metadata": {},
   "outputs": [
    {
     "name": "stdout",
     "output_type": "stream",
     "text": [
      "3\n"
     ]
    }
   ],
   "source": [
    "#Indexing \n",
    "l1=[1,2,3,4,5,6]\n",
    "print(l1[2])"
   ]
  },
  {
   "cell_type": "code",
   "execution_count": 17,
   "id": "df715270-4649-4d69-9b0d-a0f57fb7163f",
   "metadata": {},
   "outputs": [
    {
     "name": "stdout",
     "output_type": "stream",
     "text": [
      "[1, 2, 3]\n"
     ]
    }
   ],
   "source": [
    "#Slicing\n",
    "print(l1[0:3])"
   ]
  },
  {
   "cell_type": "code",
   "execution_count": 18,
   "id": "7fb95ed0-b396-4490-8228-53cefa17868b",
   "metadata": {},
   "outputs": [
    {
     "name": "stdout",
     "output_type": "stream",
     "text": [
      "[1, 2, 3, 1, 2, 3]\n"
     ]
    }
   ],
   "source": [
    "#Repeating\n",
    "print(l1[0:3]*2)"
   ]
  },
  {
   "cell_type": "code",
   "execution_count": 19,
   "id": "c548237d-b3d1-43a0-9dca-20d25a57d436",
   "metadata": {},
   "outputs": [
    {
     "name": "stdout",
     "output_type": "stream",
     "text": [
      "[1, 2, 3, 4, 5, 6, 7, 8, 9]\n"
     ]
    }
   ],
   "source": [
    "#concatenation\n",
    "l2=[7,8,9]\n",
    "print(l1+l2)"
   ]
  },
  {
   "cell_type": "code",
   "execution_count": 22,
   "id": "42fa5aac-4542-4c9a-b7a9-2ec17be4e0d8",
   "metadata": {},
   "outputs": [
    {
     "name": "stdout",
     "output_type": "stream",
     "text": [
      "Equal\n"
     ]
    }
   ],
   "source": [
    "#Compairsion\n",
    "l3=[1,2,3,4,5,6]\n",
    "if l1==l3:\n",
    "    print(\"Equal\")\n",
    "else:\n",
    "    print(\"Not Equal\")"
   ]
  },
  {
   "cell_type": "code",
   "execution_count": 21,
   "id": "2a5d2c10-8565-4fb2-9208-41015c306638",
   "metadata": {},
   "outputs": [],
   "source": [
    "#Membership\n",
    "l3=[1]\n",
    "if l3 in l1:\n",
    "    print(\"present\")"
   ]
  },
  {
   "cell_type": "code",
   "execution_count": 23,
   "id": "d8b0125b-71cb-4a9f-83f8-a0093906d1e9",
   "metadata": {},
   "outputs": [
    {
     "data": {
      "text/plain": [
       "{'batters': {'batter': [{'batter': [{'batter': [{'type': 'Regular'}]}]}]}}"
      ]
     },
     "execution_count": 23,
     "metadata": {},
     "output_type": "execute_result"
    }
   ],
   "source": [
    "{\"batters\":{\"batter\":[{\"batter\":[{\"batter\":[{\"type\":\"Regular\"}]}]}]}}"
   ]
  },
  {
   "cell_type": "code",
   "execution_count": 1,
   "id": "3d4e7be0-61c5-4eba-91b7-d251f86afb3f",
   "metadata": {},
   "outputs": [
    {
     "name": "stdout",
     "output_type": "stream",
     "text": [
      "Regular\n"
     ]
    }
   ],
   "source": [
    "from functools import reduce\n",
    "\n",
    "data = {\n",
    "    \"batters\": {\n",
    "        \"batter\": [\n",
    "            {\n",
    "                \"batter\": [\n",
    "                    {\n",
    "                        \"batter\": [\n",
    "                            {\"type\": \"Regular\"}\n",
    "                        ]\n",
    "                    }\n",
    "                ]\n",
    "            }\n",
    "        ]\n",
    "    }\n",
    "}\n",
    "\n",
    "value = reduce(lambda d, k: d[k] if isinstance(d, (dict, list)) and k in (d if isinstance(d, dict) else range(len(d))) else None, \n",
    "               [\"batters\", \"batter\", 0, \"batter\", 0, \"batter\", 0, \"type\"], \n",
    "               data)\n",
    "\n",
    "print(value)\n"
   ]
  },
  {
   "cell_type": "code",
   "execution_count": 28,
   "id": "8d8518a1-0ee5-472b-91c2-396556132b50",
   "metadata": {},
   "outputs": [
    {
     "name": "stdin",
     "output_type": "stream",
     "text": [
      " 4\n"
     ]
    },
    {
     "name": "stdout",
     "output_type": "stream",
     "text": [
      "It is not a prime number\n"
     ]
    }
   ],
   "source": [
    "#Prime Number\n",
    "a=int(input())\n",
    "f=0\n",
    "if (a>1):\n",
    "    for i in range(2, a):\n",
    "        if (a%i==0):\n",
    "            f=1\n",
    "            break\n",
    "if f==0:\n",
    "    print('It is Prime Number')\n",
    "else:\n",
    "    print(\"It is not a prime number\")"
   ]
  },
  {
   "cell_type": "code",
   "execution_count": 6,
   "id": "3dae1b5a-bf45-4f6b-a399-ab8b733dce5a",
   "metadata": {},
   "outputs": [
    {
     "name": "stdout",
     "output_type": "stream",
     "text": [
      "Ansh\n",
      "Thakkar\n"
     ]
    }
   ],
   "source": [
    "full_name= \"Ansh Thakkar\"\n",
    "first_name=full_name[:full_name.index(\" \")]\n",
    "print(first_name)\n",
    "last_name=full_name[full_name.index(\" \")+1:]\n",
    "print(last_name)"
   ]
  },
  {
   "cell_type": "code",
   "execution_count": 9,
   "id": "c08feb7f-5997-438f-b62c-4f611155b338",
   "metadata": {},
   "outputs": [
    {
     "name": "stdout",
     "output_type": "stream",
     "text": [
      "\n",
      "* \n",
      "* * \n",
      "* * * \n",
      "* * * * \n"
     ]
    }
   ],
   "source": [
    "#Pattern\n",
    "for i in range(5):\n",
    "    for j in range(i):\n",
    "        print(\"*\",end=\" \")\n",
    "    print(\"\")"
   ]
  },
  {
   "cell_type": "code",
   "execution_count": 12,
   "id": "bc67cae3-2ce2-4066-9575-5e05e8c2e095",
   "metadata": {},
   "outputs": [
    {
     "name": "stdout",
     "output_type": "stream",
     "text": [
      "$ $ $ $ $ \n",
      "$ $ $ $ \n",
      "$ $ $ \n",
      "$ $ \n",
      "$ \n"
     ]
    }
   ],
   "source": [
    "for i in range(5):\n",
    "    for j in range(5,i,-1):\n",
    "        print(\"$\", end=\" \")\n",
    "    print(\"\")"
   ]
  },
  {
   "cell_type": "code",
   "execution_count": 56,
   "id": "e2a9f268-afe7-4015-b3ae-9a21799fd3fe",
   "metadata": {},
   "outputs": [
    {
     "name": "stdout",
     "output_type": "stream",
     "text": [
      "# # # # \n",
      " # # # \n",
      "  # # \n",
      "   # \n",
      "  # # \n",
      " # # # \n",
      "# # # # \n"
     ]
    }
   ],
   "source": [
    "for i in range(5,1,-1):\n",
    "    for k in range(5-i):\n",
    "        print(\" \",end=\"\")\n",
    "    for j in range(i-1):\n",
    "        print(\"#\", end=\" \")\n",
    "    print(\"\")\n",
    "for m in range(2,5):\n",
    "    for l in range(4,m,-1):\n",
    "        print(\"\", end=\" \")\n",
    "    for k in range(m):\n",
    "        print(\"#\",end=\" \")\n",
    "    print(\"\")"
   ]
  },
  {
   "cell_type": "code",
   "execution_count": 58,
   "id": "e5d8c4a4-ada1-40c8-835a-8ea6a805d57b",
   "metadata": {},
   "outputs": [
    {
     "name": "stdin",
     "output_type": "stream",
     "text": [
      " 4\n",
      " 5\n"
     ]
    },
    {
     "name": "stdout",
     "output_type": "stream",
     "text": [
      "00000\n",
      "01234\n",
      "02468\n",
      "036912\n"
     ]
    }
   ],
   "source": [
    "x=int(input())\n",
    "y=int(input())\n",
    "for i in range(x):\n",
    "    for j in range(y):\n",
    "        print(i*j, end=\"\")\n",
    "    print(\"\")"
   ]
  },
  {
   "cell_type": "code",
   "execution_count": null,
   "id": "e4a199b3-0329-4b75-94d1-85afa8a6c491",
   "metadata": {},
   "outputs": [],
   "source": []
  }
 ],
 "metadata": {
  "kernelspec": {
   "display_name": "Python 3 (ipykernel)",
   "language": "python",
   "name": "python3"
  },
  "language_info": {
   "codemirror_mode": {
    "name": "ipython",
    "version": 3
   },
   "file_extension": ".py",
   "mimetype": "text/x-python",
   "name": "python",
   "nbconvert_exporter": "python",
   "pygments_lexer": "ipython3",
   "version": "3.12.4"
  }
 },
 "nbformat": 4,
 "nbformat_minor": 5
}
