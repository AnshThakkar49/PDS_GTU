{
 "cells": [
  {
   "cell_type": "code",
   "execution_count": 4,
   "id": "63d716a4-69af-4e78-965f-9665581199bc",
   "metadata": {},
   "outputs": [
    {
     "data": {
      "text/plain": [
       "0    a\n",
       "1    b\n",
       "2    c\n",
       "3    a\n",
       "dtype: category\n",
       "Categories (3, object): ['a', 'b', 'c']"
      ]
     },
     "execution_count": 4,
     "metadata": {},
     "output_type": "execute_result"
    }
   ],
   "source": [
    "import pandas as pd\n",
    "s=pd.Series(['a','b','c','a'],dtype='category')\n",
    "s"
   ]
  },
  {
   "cell_type": "code",
   "execution_count": 6,
   "id": "cea5e30b-af86-425a-a0c2-e483d5356242",
   "metadata": {},
   "outputs": [
    {
     "data": {
      "text/plain": [
       "['a', 'b', 'c', 'a', 'b', 'c', NaN]\n",
       "Categories (3, object): ['a' < 'b' < 'c']"
      ]
     },
     "execution_count": 6,
     "metadata": {},
     "output_type": "execute_result"
    }
   ],
   "source": [
    "# pd.Categorical(values,category,order)\n",
    "df=pd.Categorical(['a','b','c','a','b','c','d'],['a','b','c'],ordered=True)\n",
    "df"
   ]
  },
  {
   "cell_type": "code",
   "execution_count": 7,
   "id": "90bde20a-1215-4062-ac7f-8b06253957d2",
   "metadata": {},
   "outputs": [
    {
     "data": {
      "text/html": [
       "<div>\n",
       "<style scoped>\n",
       "    .dataframe tbody tr th:only-of-type {\n",
       "        vertical-align: middle;\n",
       "    }\n",
       "\n",
       "    .dataframe tbody tr th {\n",
       "        vertical-align: top;\n",
       "    }\n",
       "\n",
       "    .dataframe thead th {\n",
       "        text-align: right;\n",
       "    }\n",
       "</style>\n",
       "<table border=\"1\" class=\"dataframe\">\n",
       "  <thead>\n",
       "    <tr style=\"text-align: right;\">\n",
       "      <th></th>\n",
       "      <th>counts</th>\n",
       "      <th>freqs</th>\n",
       "    </tr>\n",
       "    <tr>\n",
       "      <th>categories</th>\n",
       "      <th></th>\n",
       "      <th></th>\n",
       "    </tr>\n",
       "  </thead>\n",
       "  <tbody>\n",
       "    <tr>\n",
       "      <th>a</th>\n",
       "      <td>2</td>\n",
       "      <td>0.285714</td>\n",
       "    </tr>\n",
       "    <tr>\n",
       "      <th>b</th>\n",
       "      <td>2</td>\n",
       "      <td>0.285714</td>\n",
       "    </tr>\n",
       "    <tr>\n",
       "      <th>c</th>\n",
       "      <td>2</td>\n",
       "      <td>0.285714</td>\n",
       "    </tr>\n",
       "    <tr>\n",
       "      <th>NaN</th>\n",
       "      <td>1</td>\n",
       "      <td>0.142857</td>\n",
       "    </tr>\n",
       "  </tbody>\n",
       "</table>\n",
       "</div>"
      ],
      "text/plain": [
       "            counts     freqs\n",
       "categories                  \n",
       "a                2  0.285714\n",
       "b                2  0.285714\n",
       "c                2  0.285714\n",
       "NaN              1  0.142857"
      ]
     },
     "execution_count": 7,
     "metadata": {},
     "output_type": "execute_result"
    }
   ],
   "source": [
    "df.describe()"
   ]
  },
  {
   "cell_type": "code",
   "execution_count": 15,
   "id": "ae439d90-4945-457f-a9e5-a28fd4854b31",
   "metadata": {},
   "outputs": [
    {
     "name": "stdout",
     "output_type": "stream",
     "text": [
      "['Group a', 'Group b', 'Group c']\n"
     ]
    }
   ],
   "source": [
    "#Renaming Categories\n",
    "import pandas as pd\n",
    "s = pd.Series([\"a\",\"b\",\"c\",\"a\"], dtype=\"category\")\n",
    "s.cat.rename_categories = [\"Group %s\"%g for g in s.cat.categories]\n",
    "print(s.cat.rename_categories)"
   ]
  },
  {
   "cell_type": "code",
   "execution_count": 16,
   "id": "edfd37b5-3a48-4ede-8e1a-d5449939d209",
   "metadata": {},
   "outputs": [
    {
     "name": "stdout",
     "output_type": "stream",
     "text": [
      "Index(['a', 'b', 'c', 4, 5], dtype='object')\n"
     ]
    }
   ],
   "source": [
    "#Adding New Categories\n",
    "s=pd.Series(['a','b','c','a'],dtype='category')\n",
    "s=s.cat.add_categories([4,5])\n",
    "print(s.cat.categories)"
   ]
  },
  {
   "cell_type": "code",
   "execution_count": 20,
   "id": "ce3b5669-7f3f-46ad-8ff3-f07673a769d9",
   "metadata": {},
   "outputs": [
    {
     "name": "stdout",
     "output_type": "stream",
     "text": [
      "original object: \n",
      "0    a\n",
      "1    b\n",
      "2    c\n",
      "3    a\n",
      "dtype: category\n",
      "Categories (3, object): ['a', 'b', 'c']\n",
      "\n",
      "After Removal\n",
      "0    NaN\n",
      "1      b\n",
      "2      c\n",
      "3    NaN\n",
      "dtype: category\n",
      "Categories (2, object): ['b', 'c']\n"
     ]
    }
   ],
   "source": [
    "#Removing Categories\n",
    "s=pd.Series(['a','b','c','a'],dtype='category')\n",
    "print(\"original object: \")\n",
    "print(s)\n",
    "print(\"\")\n",
    "print(\"After Removal\")\n",
    "print(s.cat.remove_categories('a'))"
   ]
  },
  {
   "cell_type": "code",
   "execution_count": 23,
   "id": "0327bb81-578e-47c4-a600-5160cb28dade",
   "metadata": {},
   "outputs": [
    {
     "name": "stdout",
     "output_type": "stream",
     "text": [
      "0    False\n",
      "1    False\n",
      "2     True\n",
      "dtype: bool\n"
     ]
    }
   ],
   "source": [
    "#Comparisions\n",
    "# Create the Series with specified categories and ordering\n",
    "cat = pd.Series(pd.Categorical([1, 2, 3], categories=[1, 2, 3], ordered=True))\n",
    "cat1 = pd.Series(pd.Categorical([2, 2, 2], categories=[1, 2, 3], ordered=True))\n",
    "\n",
    "# Compare the two categorical Series\n",
    "print(cat > cat1)"
   ]
  },
  {
   "cell_type": "code",
   "execution_count": null,
   "id": "3651f290-8efa-4af7-a363-f2f4f52d9d89",
   "metadata": {},
   "outputs": [],
   "source": []
  }
 ],
 "metadata": {
  "kernelspec": {
   "display_name": "Python 3 (ipykernel)",
   "language": "python",
   "name": "python3"
  },
  "language_info": {
   "codemirror_mode": {
    "name": "ipython",
    "version": 3
   },
   "file_extension": ".py",
   "mimetype": "text/x-python",
   "name": "python",
   "nbconvert_exporter": "python",
   "pygments_lexer": "ipython3",
   "version": "3.12.4"
  }
 },
 "nbformat": 4,
 "nbformat_minor": 5
}
