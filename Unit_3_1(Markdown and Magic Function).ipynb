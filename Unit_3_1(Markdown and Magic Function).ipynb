{
 "cells": [
  {
   "cell_type": "markdown",
   "id": "67824e2a-99ec-458b-afcf-2abb9a8ea595",
   "metadata": {},
   "source": [
    "# Headings\n",
    "## Headings\n",
    "### Headings\n"
   ]
  },
  {
   "cell_type": "markdown",
   "id": "d0e74354-88ca-40e2-bceb-d2283323d044",
   "metadata": {},
   "source": [
    "## List\n",
    "\n",
    "<ol>\n",
    "    <li>Mustang</li>\n",
    "    <li>Agera RS</li>\n",
    "    <li>Pagani</li>\n",
    "</ol>\n",
    "\n",
    "<ul>\n",
    "    <li>Mustang</li>\n",
    "    <li>Agera RS</li>\n",
    "    <li>Pagani</li>\n",
    "</ul>"
   ]
  },
  {
   "cell_type": "markdown",
   "id": "5a69168e-c992-49a7-b9b3-bea83baf75e3",
   "metadata": {},
   "source": [
    "# Horizontal Rule\n",
    "\n",
    "Welcome to My World\n",
    "***"
   ]
  },
  {
   "cell_type": "markdown",
   "id": "d062aa53-9223-4c39-9585-8a4b0c227ea2",
   "metadata": {},
   "source": [
    "## Bold and Italic"
   ]
  },
  {
   "cell_type": "markdown",
   "id": "27a3637b-8816-4c6d-9d80-357691b236ef",
   "metadata": {},
   "source": [
    "#Bold\n",
    "<b>Hi this is Mac</b>\n",
    "**Hi this is Mac\n",
    "__Hi this is mack\n",
    "\n",
    "#Italic\n",
    "<i>Hi this is MMac\n",
    "*Hi this is Mac\n",
    "_Hi this is Mac"
   ]
  },
  {
   "cell_type": "markdown",
   "id": "163a7179-9b20-4503-aabb-707220a65b17",
   "metadata": {},
   "source": [
    "## Highlight"
   ]
  },
  {
   "cell_type": "markdown",
   "id": "1a7607eb-0486-4ff7-bd4d-6598f961a984",
   "metadata": {},
   "source": [
    "This is 'Highlighted' content"
   ]
  },
  {
   "cell_type": "markdown",
   "id": "2b0c9473-d42e-4cb4-b740-0248ff293c1f",
   "metadata": {},
   "source": [
    "## Hyperlink"
   ]
  },
  {
   "cell_type": "markdown",
   "id": "c5ce9231-f4b3-49c5-9da8-f6b1c533249a",
   "metadata": {},
   "source": [
    "<a href=\"https://www.google.com\" target=\"_blank\"> Google </a>"
   ]
  },
  {
   "cell_type": "markdown",
   "id": "acaa77fd-644c-4e4b-8c37-63118c496c79",
   "metadata": {},
   "source": [
    "## Loading Image from Internet"
   ]
  },
  {
   "cell_type": "markdown",
   "id": "4ddbd19c-ea0c-4806-87b2-0e3eb54dca13",
   "metadata": {},
   "source": [
    "![Image is here](https://www.shutterstock.com/image-vector/url-shortener-man-pushes-address-bar-2201694049)"
   ]
  },
  {
   "cell_type": "markdown",
   "id": "c4ff2943-9c93-4a50-aee7-c19690b1d897",
   "metadata": {},
   "source": [
    "## Loading Image from PC\n",
    "![Image](Img1.png)\n",
    "<img src=\"Img1.png\" alt=\"Dengue\" title=\"Dengue Img\"/>"
   ]
  },
  {
   "cell_type": "markdown",
   "id": "0ee0eb3c-9642-40a8-81bf-61b20d214698",
   "metadata": {},
   "source": [
    "## Blockquotes"
   ]
  },
  {
   "cell_type": "markdown",
   "id": "b3b90fd4-bd2d-4fe2-9e13-7d7a7b41b015",
   "metadata": {},
   "source": [
    ">This is Blockquote\n",
    "<blockquote>This is Blockquote</blockquote>"
   ]
  },
  {
   "cell_type": "markdown",
   "id": "018e9158-d48b-4b9d-89c0-9fc254fdcf9e",
   "metadata": {},
   "source": [
    "## Break Line"
   ]
  },
  {
   "cell_type": "markdown",
   "id": "19b4d451-5421-4999-9e34-8c47ca20d760",
   "metadata": {},
   "source": [
    "This line breaks<br> from here"
   ]
  },
  {
   "cell_type": "markdown",
   "id": "0cbec4bf-83f4-4d74-bd33-95cefd3a6c61",
   "metadata": {},
   "source": [
    "## Displaying Video"
   ]
  },
  {
   "cell_type": "code",
   "execution_count": 4,
   "id": "358f1189-3a66-4983-a6c5-392ce87cb60a",
   "metadata": {},
   "outputs": [
    {
     "name": "stderr",
     "output_type": "stream",
     "text": [
      "C:\\Users\\Ansh Thakkar\\anaconda3\\Lib\\site-packages\\IPython\\core\\display.py:431: UserWarning: Consider using IPython.display.IFrame instead\n",
      "  warnings.warn(\"Consider using IPython.display.IFrame instead\")\n"
     ]
    },
    {
     "data": {
      "text/html": [
       "<iframe width=\"560\" height = \"315\" src=\"https://youtu.be/xJ3vatsNQDU?si=MjMZ8kcz9vMJUfKU\" frameborder=\"0\">Video</iframe>"
      ],
      "text/plain": [
       "<IPython.core.display.HTML object>"
      ]
     },
     "execution_count": 4,
     "metadata": {},
     "output_type": "execute_result"
    }
   ],
   "source": [
    "from IPython.display import HTML\n",
    "HTML('<iframe width=\"560\" height = \"315\" src=\"https://youtu.be/xJ3vatsNQDU?si=MjMZ8kcz9vMJUfKU\" frameborder=\"0\">Video</iframe>')"
   ]
  },
  {
   "cell_type": "markdown",
   "id": "5b62de4c-85de-449f-92ba-4dcd9026fa7c",
   "metadata": {},
   "source": [
    "## Magic Functions"
   ]
  },
  {
   "cell_type": "markdown",
   "id": "9553fa54-9ea2-4140-b018-be6c9e903a5c",
   "metadata": {},
   "source": [
    "## Cell Magic"
   ]
  },
  {
   "cell_type": "code",
   "execution_count": 5,
   "id": "31caa134-2884-4e5c-9d40-4f93e361a37e",
   "metadata": {},
   "outputs": [],
   "source": [
    "#%autocall[Mode] \n",
    "#Mode =0,1,2"
   ]
  },
  {
   "cell_type": "code",
   "execution_count": 6,
   "id": "07d6aa26-1082-457b-afe8-ac64dce881b5",
   "metadata": {},
   "outputs": [
    {
     "name": "stdout",
     "output_type": "stream",
     "text": [
      "Automatic calling is: Off\n"
     ]
    }
   ],
   "source": [
    "%autocall 0"
   ]
  },
  {
   "cell_type": "code",
   "execution_count": 22,
   "id": "f20ac6ce-1b5c-4f1d-99e1-ef49c5a45873",
   "metadata": {},
   "outputs": [],
   "source": [
    "def add(x,y):\n",
    "    print(x+y)"
   ]
  },
  {
   "cell_type": "code",
   "execution_count": 23,
   "id": "9063313c-9b07-43e8-a392-2aa2a14d0e68",
   "metadata": {},
   "outputs": [
    {
     "name": "stdout",
     "output_type": "stream",
     "text": [
      "------> add(5,6)\n",
      "------> add(5,6)\n",
      "11\n"
     ]
    }
   ],
   "source": [
    "add 5,6"
   ]
  },
  {
   "cell_type": "code",
   "execution_count": 24,
   "id": "f10da68b-57cd-4cee-8604-d753f945ae40",
   "metadata": {},
   "outputs": [
    {
     "name": "stdout",
     "output_type": "stream",
     "text": [
      "Automatic calling is: Smart\n"
     ]
    }
   ],
   "source": [
    "%autocall 1"
   ]
  },
  {
   "cell_type": "code",
   "execution_count": 25,
   "id": "5a9ecb74-7560-43fd-972b-33e862e1ca21",
   "metadata": {},
   "outputs": [
    {
     "name": "stdout",
     "output_type": "stream",
     "text": [
      "------> add(6,5)\n",
      "------> add(6,5)\n",
      "11\n"
     ]
    }
   ],
   "source": [
    "add 6,5"
   ]
  },
  {
   "cell_type": "code",
   "execution_count": 26,
   "id": "434134c6-4293-417e-be10-768d655d58d3",
   "metadata": {},
   "outputs": [
    {
     "name": "stdout",
     "output_type": "stream",
     "text": [
      "Automatic calling is: Full\n"
     ]
    }
   ],
   "source": [
    "%autocall 2"
   ]
  },
  {
   "cell_type": "code",
   "execution_count": 27,
   "id": "da7f6dc5-018a-450e-a1bb-3c61f3d48136",
   "metadata": {},
   "outputs": [
    {
     "name": "stdout",
     "output_type": "stream",
     "text": [
      "------> add(10,10)\n",
      "------> add(10,10)\n",
      "20\n"
     ]
    }
   ],
   "source": [
    "add 10,10"
   ]
  },
  {
   "cell_type": "code",
   "execution_count": 28,
   "id": "26ef056c-674f-4f27-b65c-fb30438f0bc3",
   "metadata": {},
   "outputs": [],
   "source": [
    "#%automagic[Mode]\n",
    "#mode = 0,1"
   ]
  },
  {
   "cell_type": "code",
   "execution_count": 30,
   "id": "6c467239-a239-4568-9225-6dca0fa4870c",
   "metadata": {},
   "outputs": [
    {
     "name": "stdout",
     "output_type": "stream",
     "text": [
      "\n",
      "Automagic is ON, % prefix IS NOT needed for line magics.\n"
     ]
    }
   ],
   "source": [
    "%automagic 1"
   ]
  },
  {
   "cell_type": "code",
   "execution_count": 31,
   "id": "02a488de-4dcc-4a67-8c70-ea147edc31cc",
   "metadata": {},
   "outputs": [
    {
     "name": "stdout",
     "output_type": "stream",
     "text": [
      "Automatic calling is: Off\n"
     ]
    }
   ],
   "source": [
    "autocall 0"
   ]
  },
  {
   "cell_type": "code",
   "execution_count": 33,
   "id": "6710381e-a1a5-4425-9dd1-39a164b3083f",
   "metadata": {},
   "outputs": [
    {
     "name": "stdout",
     "output_type": "stream",
     "text": [
      "\n",
      "Automagic is OFF, % prefix IS needed for line magics.\n"
     ]
    }
   ],
   "source": [
    "%automagic 0"
   ]
  },
  {
   "cell_type": "code",
   "execution_count": 35,
   "id": "c7b94584-1e58-43c1-a53c-b8c01734c273",
   "metadata": {},
   "outputs": [
    {
     "ename": "SyntaxError",
     "evalue": "invalid syntax (4081348915.py, line 1)",
     "output_type": "error",
     "traceback": [
      "\u001b[1;36m  Cell \u001b[1;32mIn[35], line 1\u001b[1;36m\u001b[0m\n\u001b[1;33m    autocall 0\u001b[0m\n\u001b[1;37m             ^\u001b[0m\n\u001b[1;31mSyntaxError\u001b[0m\u001b[1;31m:\u001b[0m invalid syntax\n"
     ]
    }
   ],
   "source": [
    "autocall 0"
   ]
  },
  {
   "cell_type": "code",
   "execution_count": 38,
   "id": "be0a3f6e-0647-4e8d-ac3d-3cbacc2b74d8",
   "metadata": {},
   "outputs": [
    {
     "data": {
      "text/plain": [
       "'C:\\\\Users\\\\Ansh Thakkar\\\\GTU_5_PDS'"
      ]
     },
     "execution_count": 38,
     "metadata": {},
     "output_type": "execute_result"
    }
   ],
   "source": [
    "%pwd # Current working Directory"
   ]
  },
  {
   "cell_type": "code",
   "execution_count": 46,
   "id": "9032dc46-dd75-4cca-998b-64693b58f70d",
   "metadata": {},
   "outputs": [
    {
     "name": "stderr",
     "output_type": "stream",
     "text": [
      "UsageError: Line magic function `%Ismagic` not found.\n"
     ]
    }
   ],
   "source": [
    "%Ismagic #Display all current available magic function"
   ]
  },
  {
   "cell_type": "code",
   "execution_count": 50,
   "id": "3307e28d-f645-4b86-898b-ffefc1613e91",
   "metadata": {},
   "outputs": [
    {
     "name": "stdout",
     "output_type": "stream",
     "text": [
      "Hello world\n"
     ]
    }
   ],
   "source": [
    "%run Hello.ipynb #Runs other ipynb"
   ]
  },
  {
   "cell_type": "code",
   "execution_count": 57,
   "id": "c37a9da8-25f4-4082-977f-1841d97215ab",
   "metadata": {},
   "outputs": [
    {
     "name": "stdout",
     "output_type": "stream",
     "text": [
      "113 ns ± 0.475 ns per loop (mean ± std. dev. of 7 runs, 10,000,000 loops each)\n"
     ]
    }
   ],
   "source": [
    "%timeit sum(range(10))"
   ]
  },
  {
   "cell_type": "markdown",
   "id": "11002e6e-7a21-43aa-aa5b-cf851ebb77ce",
   "metadata": {},
   "source": [
    "## Cell Magic"
   ]
  },
  {
   "cell_type": "code",
   "execution_count": 58,
   "id": "9d414c59-b116-4ad6-8a81-29e1b0293e5d",
   "metadata": {},
   "outputs": [
    {
     "data": {
      "text/html": [
       "<font size=5 color=\"blue\"> python </font> <br>\n",
       "<font size=5 color=\"blue\"> python </font>\n"
      ],
      "text/plain": [
       "<IPython.core.display.HTML object>"
      ]
     },
     "metadata": {},
     "output_type": "display_data"
    }
   ],
   "source": [
    "%%html\n",
    "<font size=5 color=\"blue\"> python </font> <br>\n",
    "<font size=5 color=\"blue\"> python </font>"
   ]
  },
  {
   "cell_type": "code",
   "execution_count": 61,
   "id": "3946711d-0c73-42ac-82d5-65395ba12b27",
   "metadata": {},
   "outputs": [
    {
     "name": "stdout",
     "output_type": "stream",
     "text": [
      "185 ns ± 3.98 ns per loop (mean ± std. dev. of 7 runs, 1,000,000 loops each)\n"
     ]
    }
   ],
   "source": [
    "%%timeit\n",
    "sum(range(10))\n",
    "sum(range(1))"
   ]
  },
  {
   "cell_type": "code",
   "execution_count": 62,
   "id": "1a4a57b4-fd1f-466f-9273-32babf9c9d68",
   "metadata": {},
   "outputs": [
    {
     "name": "stdout",
     "output_type": "stream",
     "text": [
      "Writing demo.py\n"
     ]
    }
   ],
   "source": [
    "%%writefile demo.py\n",
    "print(\"Hello world\")"
   ]
  }
 ],
 "metadata": {
  "kernelspec": {
   "display_name": "Python 3 (ipykernel)",
   "language": "python",
   "name": "python3"
  },
  "language_info": {
   "codemirror_mode": {
    "name": "ipython",
    "version": 3
   },
   "file_extension": ".py",
   "mimetype": "text/x-python",
   "name": "python",
   "nbconvert_exporter": "python",
   "pygments_lexer": "ipython3",
   "version": "3.12.4"
  }
 },
 "nbformat": 4,
 "nbformat_minor": 5
}
