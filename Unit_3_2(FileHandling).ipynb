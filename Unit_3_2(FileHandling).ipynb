{
 "cells": [
  {
   "cell_type": "markdown",
   "id": "f90c9085-52f1-4184-b954-902939a8ea9e",
   "metadata": {},
   "source": [
    "### Writing a file using write function"
   ]
  },
  {
   "cell_type": "code",
   "execution_count": 3,
   "id": "0dcbb1f7-2ed5-4a8f-b653-6ae9a8a0997e",
   "metadata": {},
   "outputs": [
    {
     "name": "stdout",
     "output_type": "stream",
     "text": [
      "True\n"
     ]
    }
   ],
   "source": [
    "#Writable \n",
    "fh=open('TestDemo.txt','w')\n",
    "print(fh.writable())\n",
    "fh.close()"
   ]
  },
  {
   "cell_type": "code",
   "execution_count": 4,
   "id": "8554f6fd-6378-4f44-913b-0c153e61fc54",
   "metadata": {},
   "outputs": [],
   "source": [
    "#Writelines\n",
    "fh=open('TestDemo.txt','w+')\n",
    "fh.write(\"How you Doin ?\\n\")\n",
    "L=[\"Wake up to reality\\n\", \"Goodbye\\n\"]\n",
    "fh.writelines(L)\n",
    "fh.close()"
   ]
  },
  {
   "cell_type": "code",
   "execution_count": 5,
   "id": "563589ee-4045-4dd4-9e9a-2be6c125167a",
   "metadata": {},
   "outputs": [],
   "source": [
    "#Appending\n",
    "fh=open('TestDemo.txt','a')\n",
    "L=[\"Beast\",\" Mode\\n\"]\n",
    "fh.writelines(L)\n",
    "fh.close()"
   ]
  },
  {
   "cell_type": "code",
   "execution_count": 12,
   "id": "3765cfdf-76c4-4091-bbf5-9b222e13005f",
   "metadata": {},
   "outputs": [
    {
     "name": "stdout",
     "output_type": "stream",
     "text": [
      "True\n",
      "How you Doin ?\n",
      "Wake \n"
     ]
    }
   ],
   "source": [
    "#Readable\n",
    "fh=open('TestDemo.txt','r')\n",
    "print(fh.readable())\n",
    "print(fh.read(20))\n",
    "fh.close()"
   ]
  },
  {
   "cell_type": "code",
   "execution_count": 15,
   "id": "f9f06524-0d73-4367-a398-47750a80839b",
   "metadata": {},
   "outputs": [
    {
     "name": "stdout",
     "output_type": "stream",
     "text": [
      "How you Doin ?\n",
      "Wake up to reality\n",
      "Goodbye\n",
      "Beast Mode\n",
      "\n"
     ]
    }
   ],
   "source": [
    "fh=open('TestDemo.txt','r')\n",
    "print(fh.read())\n",
    "fh.close()"
   ]
  },
  {
   "cell_type": "code",
   "execution_count": 23,
   "id": "affaef98-9929-46e1-ae8b-2979c8bceab5",
   "metadata": {},
   "outputs": [
    {
     "name": "stdout",
     "output_type": "stream",
     "text": [
      "How you Doin ?\n",
      "\n"
     ]
    }
   ],
   "source": [
    "#Readline gives line by line\n",
    "fh=open('TestDemo.txt','r')\n",
    "print(fh.readline())\n",
    "fh.close()"
   ]
  },
  {
   "cell_type": "code",
   "execution_count": 21,
   "id": "6d4bcbdc-5161-45e0-ba6d-06c46b7d57a9",
   "metadata": {},
   "outputs": [
    {
     "name": "stdout",
     "output_type": "stream",
     "text": [
      "['How you Doin ?\\n', 'Wake up to reality\\n', 'Goodbye\\n', 'Beast Mode\\n']\n"
     ]
    }
   ],
   "source": [
    "#Readlines gives list of all lines\n",
    "fh=open('TestDemo.txt','r')\n",
    "print(fh.readlines())\n",
    "fh.close()"
   ]
  },
  {
   "cell_type": "code",
   "execution_count": 24,
   "id": "6a7aba36-6fd5-4b06-9326-2018dc5b40d5",
   "metadata": {},
   "outputs": [
    {
     "name": "stdout",
     "output_type": "stream",
     "text": [
      "How you Doin ?\n",
      " Wake up to reality\n",
      " Goodbye\n",
      " Beast Mode\n",
      " 57\n"
     ]
    }
   ],
   "source": [
    "#tell returns current position of file object. returns an integer\n",
    "fh=open('TestDemo.txt','r')\n",
    "for i in fh:\n",
    "    print(i,end=\" \")\n",
    "print(fh.tell())\n",
    "fh.close()"
   ]
  },
  {
   "cell_type": "code",
   "execution_count": 26,
   "id": "7f8d09cc-16d3-472b-afcc-ece7c0d5beae",
   "metadata": {},
   "outputs": [
    {
     "name": "stdout",
     "output_type": "stream",
     "text": [
      "How you Doin ?\n",
      "Wake \n",
      "Before seek: 21\n",
      "True\n",
      "After seek: 10\n"
     ]
    }
   ],
   "source": [
    "#Seek changes the current position in files\n",
    "fh=open('TestDemo.txt','r')\n",
    "print(fh.read(20))\n",
    "print('Before seek:',fh.tell())\n",
    "print(fh.seekable())\n",
    "fh.seek(10)\n",
    "print('After seek:',fh.tell())\n",
    "fh.close()"
   ]
  },
  {
   "cell_type": "code",
   "execution_count": 4,
   "id": "0537781b-f4e8-4b31-b0a5-cf64e23466a1",
   "metadata": {},
   "outputs": [
    {
     "name": "stdout",
     "output_type": "stream",
     "text": [
      "How you Do\n"
     ]
    }
   ],
   "source": [
    "#truncate Resizes file\n",
    "fh=open('TestDemo.txt','a')\n",
    "fh.truncate(10)\n",
    "fh.close()\n",
    "\n",
    "fh=open('TestDemo.txt','r')\n",
    "print(fh.read())\n",
    "fh.close()"
   ]
  },
  {
   "cell_type": "code",
   "execution_count": 6,
   "id": "4e7ce7ca-ebaa-4c13-b803-4bce6fe91660",
   "metadata": {},
   "outputs": [
    {
     "name": "stdout",
     "output_type": "stream",
     "text": [
      "1\n"
     ]
    }
   ],
   "source": [
    "#Find Total Number of Lines in Text File:\n",
    "fh=open('TestDemo.txt','r')\n",
    "lines=len(fh.readlines())\n",
    "print(lines)\n",
    "fh.close()"
   ]
  },
  {
   "cell_type": "code",
   "execution_count": 10,
   "id": "179aa6e3-cf98-4fd4-b100-6dcfd70f4b51",
   "metadata": {},
   "outputs": [
    {
     "name": "stdout",
     "output_type": "stream",
     "text": [
      "4\n"
     ]
    }
   ],
   "source": [
    "#Find Total Number of Words in Text File:\n",
    "fh=open(\"TestDemo.txt\",'r')\n",
    "data=fh.read()\n",
    "words=data.split()\n",
    "print(len(words))\n",
    "fh.close()"
   ]
  },
  {
   "cell_type": "code",
   "execution_count": 13,
   "id": "a9c7f539-8315-48a6-9644-d1f498300c36",
   "metadata": {},
   "outputs": [
    {
     "name": "stdout",
     "output_type": "stream",
     "text": [
      "3\n"
     ]
    }
   ],
   "source": [
    "#Find Total Number of unique Words in Text File:\n",
    "fh=open('TestDemo.txt')\n",
    "data=fh.read()\n",
    "words=set(data.split()) #imp\n",
    "count=0\n",
    "for word in words:\n",
    "    count+=1\n",
    "print(count)"
   ]
  }
 ],
 "metadata": {
  "kernelspec": {
   "display_name": "Python 3 (ipykernel)",
   "language": "python",
   "name": "python3"
  },
  "language_info": {
   "codemirror_mode": {
    "name": "ipython",
    "version": 3
   },
   "file_extension": ".py",
   "mimetype": "text/x-python",
   "name": "python",
   "nbconvert_exporter": "python",
   "pygments_lexer": "ipython3",
   "version": "3.12.4"
  }
 },
 "nbformat": 4,
 "nbformat_minor": 5
}
