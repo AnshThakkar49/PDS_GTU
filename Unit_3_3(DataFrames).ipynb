{
 "cells": [
  {
   "cell_type": "markdown",
   "id": "8f794925-30a5-4426-aeb0-bf8097875c9e",
   "metadata": {},
   "source": [
    "## DataFrames"
   ]
  },
  {
   "cell_type": "code",
   "execution_count": 5,
   "id": "75ed4aa3-8c89-4f78-bdbc-f5c6d23fe389",
   "metadata": {},
   "outputs": [
    {
     "data": {
      "text/html": [
       "<div>\n",
       "<style scoped>\n",
       "    .dataframe tbody tr th:only-of-type {\n",
       "        vertical-align: middle;\n",
       "    }\n",
       "\n",
       "    .dataframe tbody tr th {\n",
       "        vertical-align: top;\n",
       "    }\n",
       "\n",
       "    .dataframe thead th {\n",
       "        text-align: right;\n",
       "    }\n",
       "</style>\n",
       "<table border=\"1\" class=\"dataframe\">\n",
       "  <thead>\n",
       "    <tr style=\"text-align: right;\">\n",
       "      <th></th>\n",
       "      <th>A</th>\n",
       "      <th>B</th>\n",
       "    </tr>\n",
       "  </thead>\n",
       "  <tbody>\n",
       "    <tr>\n",
       "      <th>C</th>\n",
       "      <td>1</td>\n",
       "      <td>4</td>\n",
       "    </tr>\n",
       "    <tr>\n",
       "      <th>D</th>\n",
       "      <td>2</td>\n",
       "      <td>5</td>\n",
       "    </tr>\n",
       "    <tr>\n",
       "      <th>F</th>\n",
       "      <td>3</td>\n",
       "      <td>6</td>\n",
       "    </tr>\n",
       "  </tbody>\n",
       "</table>\n",
       "</div>"
      ],
      "text/plain": [
       "   A  B\n",
       "C  1  4\n",
       "D  2  5\n",
       "F  3  6"
      ]
     },
     "execution_count": 5,
     "metadata": {},
     "output_type": "execute_result"
    }
   ],
   "source": [
    "import pandas as pd\n",
    "data={\"A\":[1,2,3],\"B\":[4,5,6]}\n",
    "df=pd.DataFrame(data,index=[\"C\",\"D\",\"F\"])\n",
    "df\n"
   ]
  },
  {
   "cell_type": "code",
   "execution_count": 9,
   "id": "a30f7d57-4d47-403b-b710-3ac09aa5fffe",
   "metadata": {},
   "outputs": [
    {
     "data": {
      "text/plain": [
       "A    1\n",
       "B    4\n",
       "Name: C, dtype: int64"
      ]
     },
     "execution_count": 9,
     "metadata": {},
     "output_type": "execute_result"
    }
   ],
   "source": [
    "df.loc['C']"
   ]
  },
  {
   "cell_type": "markdown",
   "id": "519db5be-fa70-45f0-a495-c12e742da4bb",
   "metadata": {},
   "source": [
    "## Series"
   ]
  },
  {
   "cell_type": "code",
   "execution_count": 12,
   "id": "56e00e87-c31d-49d9-b18d-48f9920a58ae",
   "metadata": {},
   "outputs": [
    {
     "data": {
      "text/plain": [
       "0    1\n",
       "1    2\n",
       "2    3\n",
       "3    4\n",
       "4    5\n",
       "5    6\n",
       "dtype: int64"
      ]
     },
     "execution_count": 12,
     "metadata": {},
     "output_type": "execute_result"
    }
   ],
   "source": [
    "s=pd.Series([1,2,3,4,5,6])\n",
    "s"
   ]
  },
  {
   "cell_type": "code",
   "execution_count": 14,
   "id": "fa1b4327-c029-4afb-9c4a-e05ac60df46a",
   "metadata": {},
   "outputs": [
    {
     "data": {
      "text/html": [
       "<div>\n",
       "<style scoped>\n",
       "    .dataframe tbody tr th:only-of-type {\n",
       "        vertical-align: middle;\n",
       "    }\n",
       "\n",
       "    .dataframe tbody tr th {\n",
       "        vertical-align: top;\n",
       "    }\n",
       "\n",
       "    .dataframe thead th {\n",
       "        text-align: right;\n",
       "    }\n",
       "</style>\n",
       "<table border=\"1\" class=\"dataframe\">\n",
       "  <thead>\n",
       "    <tr style=\"text-align: right;\">\n",
       "      <th></th>\n",
       "      <th>A</th>\n",
       "      <th>B</th>\n",
       "    </tr>\n",
       "  </thead>\n",
       "  <tbody>\n",
       "    <tr>\n",
       "      <th>2024-11-22</th>\n",
       "      <td>1</td>\n",
       "      <td>4</td>\n",
       "    </tr>\n",
       "    <tr>\n",
       "      <th>2024-11-23</th>\n",
       "      <td>2</td>\n",
       "      <td>5</td>\n",
       "    </tr>\n",
       "    <tr>\n",
       "      <th>2024-11-24</th>\n",
       "      <td>3</td>\n",
       "      <td>6</td>\n",
       "    </tr>\n",
       "  </tbody>\n",
       "</table>\n",
       "</div>"
      ],
      "text/plain": [
       "            A  B\n",
       "2024-11-22  1  4\n",
       "2024-11-23  2  5\n",
       "2024-11-24  3  6"
      ]
     },
     "execution_count": 14,
     "metadata": {},
     "output_type": "execute_result"
    }
   ],
   "source": [
    "#Indexing with date range\n",
    "df.index=pd.date_range(start=\"22-11-2024\",periods=3)\n",
    "df"
   ]
  },
  {
   "cell_type": "code",
   "execution_count": 16,
   "id": "846c4aab-7a44-4da1-85f9-9c1c544e9041",
   "metadata": {},
   "outputs": [
    {
     "data": {
      "text/html": [
       "<div>\n",
       "<style scoped>\n",
       "    .dataframe tbody tr th:only-of-type {\n",
       "        vertical-align: middle;\n",
       "    }\n",
       "\n",
       "    .dataframe tbody tr th {\n",
       "        vertical-align: top;\n",
       "    }\n",
       "\n",
       "    .dataframe thead th {\n",
       "        text-align: right;\n",
       "    }\n",
       "</style>\n",
       "<table border=\"1\" class=\"dataframe\">\n",
       "  <thead>\n",
       "    <tr style=\"text-align: right;\">\n",
       "      <th></th>\n",
       "      <th>Id</th>\n",
       "      <th>SepalLengthCm</th>\n",
       "      <th>SepalWidthCm</th>\n",
       "      <th>PetalLengthCm</th>\n",
       "      <th>PetalWidthCm</th>\n",
       "      <th>Species</th>\n",
       "    </tr>\n",
       "  </thead>\n",
       "  <tbody>\n",
       "    <tr>\n",
       "      <th>0</th>\n",
       "      <td>1</td>\n",
       "      <td>5.1</td>\n",
       "      <td>3.5</td>\n",
       "      <td>1.4</td>\n",
       "      <td>0.2</td>\n",
       "      <td>Iris-setosa</td>\n",
       "    </tr>\n",
       "    <tr>\n",
       "      <th>1</th>\n",
       "      <td>2</td>\n",
       "      <td>4.9</td>\n",
       "      <td>3.0</td>\n",
       "      <td>1.4</td>\n",
       "      <td>0.2</td>\n",
       "      <td>Iris-setosa</td>\n",
       "    </tr>\n",
       "    <tr>\n",
       "      <th>2</th>\n",
       "      <td>3</td>\n",
       "      <td>4.7</td>\n",
       "      <td>3.2</td>\n",
       "      <td>1.3</td>\n",
       "      <td>0.2</td>\n",
       "      <td>Iris-setosa</td>\n",
       "    </tr>\n",
       "    <tr>\n",
       "      <th>3</th>\n",
       "      <td>4</td>\n",
       "      <td>4.6</td>\n",
       "      <td>3.1</td>\n",
       "      <td>1.5</td>\n",
       "      <td>0.2</td>\n",
       "      <td>Iris-setosa</td>\n",
       "    </tr>\n",
       "    <tr>\n",
       "      <th>4</th>\n",
       "      <td>5</td>\n",
       "      <td>5.0</td>\n",
       "      <td>3.6</td>\n",
       "      <td>1.4</td>\n",
       "      <td>0.2</td>\n",
       "      <td>Iris-setosa</td>\n",
       "    </tr>\n",
       "    <tr>\n",
       "      <th>...</th>\n",
       "      <td>...</td>\n",
       "      <td>...</td>\n",
       "      <td>...</td>\n",
       "      <td>...</td>\n",
       "      <td>...</td>\n",
       "      <td>...</td>\n",
       "    </tr>\n",
       "    <tr>\n",
       "      <th>145</th>\n",
       "      <td>146</td>\n",
       "      <td>6.7</td>\n",
       "      <td>3.0</td>\n",
       "      <td>5.2</td>\n",
       "      <td>2.3</td>\n",
       "      <td>Iris-virginica</td>\n",
       "    </tr>\n",
       "    <tr>\n",
       "      <th>146</th>\n",
       "      <td>147</td>\n",
       "      <td>6.3</td>\n",
       "      <td>2.5</td>\n",
       "      <td>5.0</td>\n",
       "      <td>1.9</td>\n",
       "      <td>Iris-virginica</td>\n",
       "    </tr>\n",
       "    <tr>\n",
       "      <th>147</th>\n",
       "      <td>148</td>\n",
       "      <td>6.5</td>\n",
       "      <td>3.0</td>\n",
       "      <td>5.2</td>\n",
       "      <td>2.0</td>\n",
       "      <td>Iris-virginica</td>\n",
       "    </tr>\n",
       "    <tr>\n",
       "      <th>148</th>\n",
       "      <td>149</td>\n",
       "      <td>6.2</td>\n",
       "      <td>3.4</td>\n",
       "      <td>5.4</td>\n",
       "      <td>2.3</td>\n",
       "      <td>Iris-virginica</td>\n",
       "    </tr>\n",
       "    <tr>\n",
       "      <th>149</th>\n",
       "      <td>150</td>\n",
       "      <td>5.9</td>\n",
       "      <td>3.0</td>\n",
       "      <td>5.1</td>\n",
       "      <td>1.8</td>\n",
       "      <td>Iris-virginica</td>\n",
       "    </tr>\n",
       "  </tbody>\n",
       "</table>\n",
       "<p>150 rows × 6 columns</p>\n",
       "</div>"
      ],
      "text/plain": [
       "      Id  SepalLengthCm  SepalWidthCm  PetalLengthCm  PetalWidthCm  \\\n",
       "0      1            5.1           3.5            1.4           0.2   \n",
       "1      2            4.9           3.0            1.4           0.2   \n",
       "2      3            4.7           3.2            1.3           0.2   \n",
       "3      4            4.6           3.1            1.5           0.2   \n",
       "4      5            5.0           3.6            1.4           0.2   \n",
       "..   ...            ...           ...            ...           ...   \n",
       "145  146            6.7           3.0            5.2           2.3   \n",
       "146  147            6.3           2.5            5.0           1.9   \n",
       "147  148            6.5           3.0            5.2           2.0   \n",
       "148  149            6.2           3.4            5.4           2.3   \n",
       "149  150            5.9           3.0            5.1           1.8   \n",
       "\n",
       "            Species  \n",
       "0       Iris-setosa  \n",
       "1       Iris-setosa  \n",
       "2       Iris-setosa  \n",
       "3       Iris-setosa  \n",
       "4       Iris-setosa  \n",
       "..              ...  \n",
       "145  Iris-virginica  \n",
       "146  Iris-virginica  \n",
       "147  Iris-virginica  \n",
       "148  Iris-virginica  \n",
       "149  Iris-virginica  \n",
       "\n",
       "[150 rows x 6 columns]"
      ]
     },
     "execution_count": 16,
     "metadata": {},
     "output_type": "execute_result"
    }
   ],
   "source": [
    "#Read csv\n",
    "df1=pd.read_csv(\"Iris.csv\")\n",
    "df1"
   ]
  },
  {
   "cell_type": "code",
   "execution_count": 17,
   "id": "0458394b-dbe3-4d9b-9fc0-9c3c0c1f1783",
   "metadata": {},
   "outputs": [
    {
     "data": {
      "text/plain": [
       "Index(['Id', 'SepalLengthCm', 'SepalWidthCm', 'PetalLengthCm', 'PetalWidthCm',\n",
       "       'Species'],\n",
       "      dtype='object')"
      ]
     },
     "execution_count": 17,
     "metadata": {},
     "output_type": "execute_result"
    }
   ],
   "source": [
    "df1.columns"
   ]
  },
  {
   "cell_type": "markdown",
   "id": "f330a4cc-b91f-405f-ae54-58494a4f1a06",
   "metadata": {},
   "source": [
    "## loc and iloc"
   ]
  },
  {
   "cell_type": "code",
   "execution_count": 22,
   "id": "d2fcb937-3f12-45b9-99f3-69260ae26af3",
   "metadata": {},
   "outputs": [
    {
     "name": "stdout",
     "output_type": "stream",
     "text": [
      "Id                         1\n",
      "SepalLengthCm            5.1\n",
      "SepalWidthCm             3.5\n",
      "PetalLengthCm            1.4\n",
      "PetalWidthCm             0.2\n",
      "Species          Iris-setosa\n",
      "Name: 0, dtype: object\n"
     ]
    }
   ],
   "source": [
    "print(df1.loc[0]) # to get specific row by index"
   ]
  },
  {
   "cell_type": "code",
   "execution_count": 32,
   "id": "2e586ea5-0c46-4d24-9119-1224b2390934",
   "metadata": {},
   "outputs": [
    {
     "name": "stdout",
     "output_type": "stream",
     "text": [
      "0         Iris-setosa\n",
      "1         Iris-setosa\n",
      "2         Iris-setosa\n",
      "3         Iris-setosa\n",
      "4         Iris-setosa\n",
      "            ...      \n",
      "145    Iris-virginica\n",
      "146    Iris-virginica\n",
      "147    Iris-virginica\n",
      "148    Iris-virginica\n",
      "149    Iris-virginica\n",
      "Name: Species, Length: 150, dtype: object\n"
     ]
    }
   ],
   "source": [
    "print(df1.loc[:,'Species'])"
   ]
  },
  {
   "cell_type": "code",
   "execution_count": 26,
   "id": "e6e9cc8e-bca1-41fa-94f3-3b0c8810f4a7",
   "metadata": {},
   "outputs": [
    {
     "name": "stdout",
     "output_type": "stream",
     "text": [
      "Id                         2\n",
      "SepalLengthCm            4.9\n",
      "SepalWidthCm             3.0\n",
      "PetalLengthCm            1.4\n",
      "PetalWidthCm             0.2\n",
      "Species          Iris-setosa\n",
      "Name: 1, dtype: object\n"
     ]
    }
   ],
   "source": [
    "print(df1.iloc[1]) #Specific row by index"
   ]
  },
  {
   "cell_type": "code",
   "execution_count": 30,
   "id": "592bbdb6-7236-4ef5-8a63-f909bf1517cc",
   "metadata": {},
   "outputs": [
    {
     "name": "stdout",
     "output_type": "stream",
     "text": [
      "   SepalWidthCm\n",
      "1           3.0\n"
     ]
    }
   ],
   "source": [
    "print(df1.iloc[[1],[2]]) #Specific row,column by index"
   ]
  },
  {
   "cell_type": "code",
   "execution_count": 35,
   "id": "1d73c01c-58f0-41d5-b927-eab61c5f0060",
   "metadata": {},
   "outputs": [
    {
     "name": "stdout",
     "output_type": "stream",
     "text": [
      "     SepalLengthCm\n",
      "0              5.1\n",
      "1              4.9\n",
      "2              4.7\n",
      "3              4.6\n",
      "4              5.0\n",
      "..             ...\n",
      "145            6.7\n",
      "146            6.3\n",
      "147            6.5\n",
      "148            6.2\n",
      "149            5.9\n",
      "\n",
      "[150 rows x 1 columns]\n"
     ]
    }
   ],
   "source": [
    "print(df1.iloc[:,[1]]) #All rows of column(index)"
   ]
  },
  {
   "cell_type": "code",
   "execution_count": 38,
   "id": "3f686a58-6aca-4d52-8e22-3d35f0355b51",
   "metadata": {},
   "outputs": [
    {
     "name": "stdout",
     "output_type": "stream",
     "text": [
      "   Id  SepalLengthCm  SepalWidthCm  PetalLengthCm  PetalWidthCm      Species\n",
      "0   1            5.1           3.5            1.4           0.2  Iris-setosa\n",
      "1   2            4.9           3.0            1.4           0.2  Iris-setosa\n",
      "2   3            4.7           3.2            1.3           0.2  Iris-setosa\n"
     ]
    }
   ],
   "source": [
    "print(df1.iloc[[0,1,2]]) #Rows with index"
   ]
  },
  {
   "cell_type": "code",
   "execution_count": 41,
   "id": "2f946e98-2bad-421a-838c-2df7d31dd5fb",
   "metadata": {},
   "outputs": [
    {
     "name": "stdout",
     "output_type": "stream",
     "text": [
      "   Id  SepalLengthCm  SepalWidthCm\n",
      "0   1            5.1           3.5\n",
      "1   2            4.9           3.0\n",
      "2   3            4.7           3.2\n"
     ]
    }
   ],
   "source": [
    "print(df1.iloc[[0,1,2],[0,1,2]]) #Multi rows and column|"
   ]
  },
  {
   "cell_type": "code",
   "execution_count": 43,
   "id": "3adf684b-5775-485b-8786-1af68c13ebaa",
   "metadata": {},
   "outputs": [
    {
     "name": "stdout",
     "output_type": "stream",
     "text": [
      "         Hollywood  episodes  actors\n",
      "0  Stranger Things        25  Millie\n",
      "1      Money Heist        40  Alvaro\n",
      "2   House of Cards        45   Kevin\n",
      " \n",
      "Use df.values property to get NumPy array\n",
      "[['Stranger Things' 25 'Millie']\n",
      " ['Money Heist' 40 'Alvaro']\n",
      " ['House of Cards' 45 'Kevin']]\n",
      " \n",
      "Convert values to list\n",
      "[['Stranger Things', 25, 'Millie'], ['Money Heist', 40, 'Alvaro'], ['House of Cards', 45, 'Kevin']]\n",
      "[['Stranger Things', 25, 'Millie'], ['Money Heist', 40, 'Alvaro'], ['House of Cards', 45, 'Kevin']]\n",
      " \n",
      "Get the list of actors\n",
      "['Millie', 'Alvaro', 'Kevin']\n",
      "Get the list of episodes\n",
      "[25, 40, 45]\n",
      " \n",
      "Use zip() function to aggregate DataFrame into List\n",
      "<zip object at 0x000002A3308D1C80>\n",
      "[['Stranger Things', 'Money Heist', 'House of Cards'], [25, 40, 45], ['Millie', 'Alvaro', 'Kevin']]\n",
      " \n",
      "Use iloc[] function to get select list of row 0\n",
      "['Stranger Things', 'Money Heist', 'House of Cards']\n",
      "Use iloc[] function to get select list of row 1\n",
      "[25, 40, 45]\n",
      "Use iloc[] function to get select list of row 2\n",
      "['Millie', 'Alvaro', 'Kevin']\n",
      " \n",
      "Use df.columns.values.tolist() to get the list of columns\n",
      "['Hollywood', 'episodes', 'actors']\n"
     ]
    }
   ],
   "source": [
    "import pandas as pd\n",
    "# Creating Dictionary\n",
    "dict = { 'Hollywood': ['Stranger Things', 'Money Heist', 'House of Cards'],\n",
    "        'episodes': [25, 40, 45], 'actors': ['Millie', 'Alvaro', 'Kevin']}\n",
    "\n",
    "# Creating Dataframe\n",
    "df = pd.DataFrame(dict)\n",
    "print(df)\n",
    "\n",
    "# get the values\n",
    "print(' ')\n",
    "print('Use df.values property to get NumPy array')\n",
    "vals = df.values\n",
    "print(vals)\n",
    "\n",
    "# convert to list\n",
    "print(' ')\n",
    "print('Convert values to list')\n",
    "print(vals.tolist())\n",
    "print(df.values.tolist())\n",
    "print(' ')\n",
    "\n",
    "#series.tolist()\n",
    "print(\"Get the list of actors\")\n",
    "print(df['actors'].tolist())\n",
    "print(\"Get the list of episodes\")\n",
    "print(df['episodes'].tolist())\n",
    "print(' ')\n",
    "\n",
    "#Zip()\n",
    "print('Use zip() function to aggregate DataFrame into List')\n",
    "print(zip(*df.values))\n",
    "listOfVal = [list(i) for i in zip(*df.values)]\n",
    "print(listOfVal)\n",
    "\n",
    "#using iloc\n",
    "print(' ')\n",
    "listOfVal0 = df.iloc[:, 0].tolist()\n",
    "listOfVal1 = df.iloc[:, 1].tolist()\n",
    "listOfVal2 = df.iloc[:, 2].tolist()\n",
    "print('Use iloc[] function to get select list of row 0')\n",
    "print(listOfVal0)\n",
    "print('Use iloc[] function to get select list of row 1')\n",
    "print(listOfVal1)\n",
    "print('Use iloc[] function to get select list of row 2')\n",
    "print(listOfVal2)\n",
    "#df.columns.value.tolist()\n",
    "print(' ')\n",
    "print('Use df.columns.values.tolist() to get the list of columns')\n",
    "print(df.columns.values.tolist())"
   ]
  },
  {
   "cell_type": "code",
   "execution_count": 57,
   "id": "05ba473a-0c5f-4cf9-93fc-dfedf4155e34",
   "metadata": {},
   "outputs": [
    {
     "name": "stdout",
     "output_type": "stream",
     "text": [
      "Riya\n",
      "Jahnvi\n",
      "Foram\n"
     ]
    }
   ],
   "source": [
    "#Q1 Write a python program to fatch the Name of all people aged under 18 years from people.csv file\n",
    "df3=pd.read_csv('Unit_3_3_ppl.csv')\n",
    "N=df3['Name'].tolist()\n",
    "A=df3['Age'].tolist()\n",
    "for i in range(len(A)):\n",
    "    if(A[i]<18):\n",
    "        print(N[i])"
   ]
  },
  {
   "cell_type": "code",
   "execution_count": 58,
   "id": "ddfb3dac-3729-4213-84e1-21a12dcd6842",
   "metadata": {},
   "outputs": [
    {
     "data": {
      "text/html": [
       "<div>\n",
       "<style scoped>\n",
       "    .dataframe tbody tr th:only-of-type {\n",
       "        vertical-align: middle;\n",
       "    }\n",
       "\n",
       "    .dataframe tbody tr th {\n",
       "        vertical-align: top;\n",
       "    }\n",
       "\n",
       "    .dataframe thead th {\n",
       "        text-align: right;\n",
       "    }\n",
       "</style>\n",
       "<table border=\"1\" class=\"dataframe\">\n",
       "  <thead>\n",
       "    <tr style=\"text-align: right;\">\n",
       "      <th></th>\n",
       "      <th>Unnamed: 0</th>\n",
       "      <th>Name</th>\n",
       "      <th>Age</th>\n",
       "      <th>Salary</th>\n",
       "      <th>Updated_Sal</th>\n",
       "    </tr>\n",
       "  </thead>\n",
       "  <tbody>\n",
       "    <tr>\n",
       "      <th>0</th>\n",
       "      <td>0</td>\n",
       "      <td>Riya</td>\n",
       "      <td>12</td>\n",
       "      <td>22000</td>\n",
       "      <td>29282.0</td>\n",
       "    </tr>\n",
       "    <tr>\n",
       "      <th>1</th>\n",
       "      <td>1</td>\n",
       "      <td>Priya</td>\n",
       "      <td>20</td>\n",
       "      <td>11000</td>\n",
       "      <td>15000.0</td>\n",
       "    </tr>\n",
       "    <tr>\n",
       "      <th>2</th>\n",
       "      <td>2</td>\n",
       "      <td>Vanita</td>\n",
       "      <td>23</td>\n",
       "      <td>5000</td>\n",
       "      <td>8640.0</td>\n",
       "    </tr>\n",
       "    <tr>\n",
       "      <th>3</th>\n",
       "      <td>3</td>\n",
       "      <td>Jahnvi</td>\n",
       "      <td>15</td>\n",
       "      <td>7000</td>\n",
       "      <td>11520.0</td>\n",
       "    </tr>\n",
       "    <tr>\n",
       "      <th>4</th>\n",
       "      <td>4</td>\n",
       "      <td>Foram</td>\n",
       "      <td>16</td>\n",
       "      <td>15000</td>\n",
       "      <td>39930.0</td>\n",
       "    </tr>\n",
       "  </tbody>\n",
       "</table>\n",
       "</div>"
      ],
      "text/plain": [
       "   Unnamed: 0    Name  Age  Salary  Updated_Sal\n",
       "0           0    Riya   12   22000      29282.0\n",
       "1           1   Priya   20   11000      15000.0\n",
       "2           2  Vanita   23    5000       8640.0\n",
       "3           3  Jahnvi   15    7000      11520.0\n",
       "4           4   Foram   16   15000      39930.0"
      ]
     },
     "execution_count": 58,
     "metadata": {},
     "output_type": "execute_result"
    }
   ],
   "source": [
    "df2=pd.read_csv('Unit_3_3_ppl.csv')\n",
    "#sal=df2['Salary'].tolist()\n",
    "for i in range(len(sal)):\n",
    "    if(sal[i]>20000):\n",
    "        sal[i]+=sal[i]*0.1\n",
    "    elif(sal[i]<10000):\n",
    "        sal[i]+=sal[i]*0.2\n",
    "df2['Updated_Sal']=sal\n",
    "df2.to_csv(\"Unit_3_3_ppl.csv\")\n",
    "df2"
   ]
  },
  {
   "cell_type": "code",
   "execution_count": null,
   "id": "29c63ec5-eb32-4536-a4f8-ff34d7a231af",
   "metadata": {},
   "outputs": [],
   "source": []
  }
 ],
 "metadata": {
  "kernelspec": {
   "display_name": "Python 3 (ipykernel)",
   "language": "python",
   "name": "python3"
  },
  "language_info": {
   "codemirror_mode": {
    "name": "ipython",
    "version": 3
   },
   "file_extension": ".py",
   "mimetype": "text/x-python",
   "name": "python",
   "nbconvert_exporter": "python",
   "pygments_lexer": "ipython3",
   "version": "3.12.4"
  }
 },
 "nbformat": 4,
 "nbformat_minor": 5
}
